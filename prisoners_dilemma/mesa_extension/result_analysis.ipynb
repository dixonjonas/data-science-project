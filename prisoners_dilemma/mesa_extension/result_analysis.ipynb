{
 "cells": [
  {
   "cell_type": "code",
   "execution_count": 1,
   "metadata": {
    "vscode": {
     "languageId": "shellscript"
    }
   },
   "outputs": [],
   "source": [
    "import pandas as pd\n",
    "import ast\n",
    "import matplotlib.pyplot as plt\n",
    "import seaborn as sns\n",
    "from scipy.stats import pearsonr"
   ]
  },
  {
   "cell_type": "markdown",
   "metadata": {},
   "source": [
    "### Proof of the reward structure for each round\n",
    "\n",
    "[16, 69, 0.5, 32, 0]\n",
    "\n",
    "[12, 71, 0.5, 32, 1]\n",
    "\n",
    "[16, 59, 0.5, 32, 2]\n",
    "\n",
    "[14, 29, 0.75, 32, 3]\n",
    "\n",
    "[16, 33, 0.75, 32, 4]\n",
    "\n",
    "[14, 27, 0.75, 32, 5]\n",
    "\n",
    "[14, 72, 0.5, 40, 6]\n",
    "\n",
    "[16, 71, 0.5, 40, 7]\n",
    "\n",
    "[20, 72, 0.5, 40, 8]\n",
    "\n",
    "[12, 34, 0.75, 40, 9]\n",
    "\n",
    "[14, 47, 0.75, 40, 10]\n",
    "\n",
    "[12, 23, 0.75, 40, 11]\n",
    "\n",
    "[14, 72, 0.5, 48, 12]\n",
    "\n",
    "[14, 68, 0.5, 48, 13]\n",
    "\n",
    "[18, 77, 0.5, 48, 14]\n",
    "\n",
    "[16, 35, 0.75, 48, 15]\n",
    "\n",
    "[12, 29, 0.75, 48, 16]\n",
    "\n",
    "[16, 32, 0.75, 48, 17]\n",
    "\n",
    "Completed all simulations, results saved."
   ]
  },
  {
   "cell_type": "code",
   "execution_count": 2,
   "metadata": {
    "vscode": {
     "languageId": "shellscript"
    }
   },
   "outputs": [],
   "source": [
    "df = pd.read_csv('prisoners_dilemma_results_all_experiments_the_correct_one.csv')"
   ]
  },
  {
   "cell_type": "code",
   "execution_count": 16,
   "metadata": {
    "vscode": {
     "languageId": "shellscript"
    }
   },
   "outputs": [],
   "source": [
    "number_of_games = {(0.5, 32) : [69, 71, 59], (0.5, 40) : [72, 71, 72], (0.5, 48) : [72, 68, 77],\n",
    "                   (0.75, 32) : [29, 33, 27], (0.75, 40) : [34, 47, 23], (0.75, 48) : [35, 29, 32]}"
   ]
  },
  {
   "cell_type": "code",
   "execution_count": 19,
   "metadata": {
    "vscode": {
     "languageId": "shellscript"
    }
   },
   "outputs": [
    {
     "data": {
      "text/plain": [
       "920"
      ]
     },
     "execution_count": 19,
     "metadata": {},
     "output_type": "execute_result"
    }
   ],
   "source": [
    "sum([sum(i) for i in number_of_games.values()])"
   ]
  },
  {
   "cell_type": "code",
   "execution_count": 3,
   "metadata": {
    "vscode": {
     "languageId": "shellscript"
    }
   },
   "outputs": [
    {
     "data": {
      "text/html": [
       "<div>\n",
       "<style scoped>\n",
       "    .dataframe tbody tr th:only-of-type {\n",
       "        vertical-align: middle;\n",
       "    }\n",
       "\n",
       "    .dataframe tbody tr th {\n",
       "        vertical-align: top;\n",
       "    }\n",
       "\n",
       "    .dataframe thead th {\n",
       "        text-align: right;\n",
       "    }\n",
       "</style>\n",
       "<table border=\"1\" class=\"dataframe\">\n",
       "  <thead>\n",
       "    <tr style=\"text-align: right;\">\n",
       "      <th></th>\n",
       "      <th>Data</th>\n",
       "      <th>Experiment</th>\n",
       "      <th>Supergame</th>\n",
       "      <th>Subject Pair</th>\n",
       "    </tr>\n",
       "  </thead>\n",
       "  <tbody>\n",
       "    <tr>\n",
       "      <th>0</th>\n",
       "      <td>{'Round': 1, 'Prisoner 1 ID': 11, 'Prisoner 2 ...</td>\n",
       "      <td>0</td>\n",
       "      <td>1</td>\n",
       "      <td>1</td>\n",
       "    </tr>\n",
       "    <tr>\n",
       "      <th>1</th>\n",
       "      <td>{'Round': 2, 'Prisoner 1 ID': 11, 'Prisoner 2 ...</td>\n",
       "      <td>0</td>\n",
       "      <td>1</td>\n",
       "      <td>1</td>\n",
       "    </tr>\n",
       "    <tr>\n",
       "      <th>2</th>\n",
       "      <td>{'Round': 3, 'Prisoner 1 ID': 11, 'Prisoner 2 ...</td>\n",
       "      <td>0</td>\n",
       "      <td>1</td>\n",
       "      <td>1</td>\n",
       "    </tr>\n",
       "    <tr>\n",
       "      <th>3</th>\n",
       "      <td>{'Round': 1, 'Prisoner 1 ID': 0, 'Prisoner 2 I...</td>\n",
       "      <td>0</td>\n",
       "      <td>1</td>\n",
       "      <td>2</td>\n",
       "    </tr>\n",
       "    <tr>\n",
       "      <th>4</th>\n",
       "      <td>{'Round': 2, 'Prisoner 1 ID': 0, 'Prisoner 2 I...</td>\n",
       "      <td>0</td>\n",
       "      <td>1</td>\n",
       "      <td>2</td>\n",
       "    </tr>\n",
       "    <tr>\n",
       "      <th>...</th>\n",
       "      <td>...</td>\n",
       "      <td>...</td>\n",
       "      <td>...</td>\n",
       "      <td>...</td>\n",
       "    </tr>\n",
       "    <tr>\n",
       "      <th>2512</th>\n",
       "      <td>{'Round': 3, 'Prisoner 1 ID': 15, 'Prisoner 2 ...</td>\n",
       "      <td>17</td>\n",
       "      <td>4</td>\n",
       "      <td>7</td>\n",
       "    </tr>\n",
       "    <tr>\n",
       "      <th>2513</th>\n",
       "      <td>{'Round': 4, 'Prisoner 1 ID': 15, 'Prisoner 2 ...</td>\n",
       "      <td>17</td>\n",
       "      <td>4</td>\n",
       "      <td>7</td>\n",
       "    </tr>\n",
       "    <tr>\n",
       "      <th>2514</th>\n",
       "      <td>{'Round': 5, 'Prisoner 1 ID': 15, 'Prisoner 2 ...</td>\n",
       "      <td>17</td>\n",
       "      <td>4</td>\n",
       "      <td>7</td>\n",
       "    </tr>\n",
       "    <tr>\n",
       "      <th>2515</th>\n",
       "      <td>{'Round': 1, 'Prisoner 1 ID': 4, 'Prisoner 2 I...</td>\n",
       "      <td>17</td>\n",
       "      <td>4</td>\n",
       "      <td>8</td>\n",
       "    </tr>\n",
       "    <tr>\n",
       "      <th>2516</th>\n",
       "      <td>{'Round': 2, 'Prisoner 1 ID': 4, 'Prisoner 2 I...</td>\n",
       "      <td>17</td>\n",
       "      <td>4</td>\n",
       "      <td>8</td>\n",
       "    </tr>\n",
       "  </tbody>\n",
       "</table>\n",
       "<p>2517 rows × 4 columns</p>\n",
       "</div>"
      ],
      "text/plain": [
       "                                                   Data  Experiment  \\\n",
       "0     {'Round': 1, 'Prisoner 1 ID': 11, 'Prisoner 2 ...           0   \n",
       "1     {'Round': 2, 'Prisoner 1 ID': 11, 'Prisoner 2 ...           0   \n",
       "2     {'Round': 3, 'Prisoner 1 ID': 11, 'Prisoner 2 ...           0   \n",
       "3     {'Round': 1, 'Prisoner 1 ID': 0, 'Prisoner 2 I...           0   \n",
       "4     {'Round': 2, 'Prisoner 1 ID': 0, 'Prisoner 2 I...           0   \n",
       "...                                                 ...         ...   \n",
       "2512  {'Round': 3, 'Prisoner 1 ID': 15, 'Prisoner 2 ...          17   \n",
       "2513  {'Round': 4, 'Prisoner 1 ID': 15, 'Prisoner 2 ...          17   \n",
       "2514  {'Round': 5, 'Prisoner 1 ID': 15, 'Prisoner 2 ...          17   \n",
       "2515  {'Round': 1, 'Prisoner 1 ID': 4, 'Prisoner 2 I...          17   \n",
       "2516  {'Round': 2, 'Prisoner 1 ID': 4, 'Prisoner 2 I...          17   \n",
       "\n",
       "      Supergame  Subject Pair  \n",
       "0             1             1  \n",
       "1             1             1  \n",
       "2             1             1  \n",
       "3             1             2  \n",
       "4             1             2  \n",
       "...         ...           ...  \n",
       "2512          4             7  \n",
       "2513          4             7  \n",
       "2514          4             7  \n",
       "2515          4             8  \n",
       "2516          4             8  \n",
       "\n",
       "[2517 rows x 4 columns]"
      ]
     },
     "execution_count": 3,
     "metadata": {},
     "output_type": "execute_result"
    }
   ],
   "source": [
    "df"
   ]
  },
  {
   "cell_type": "code",
   "execution_count": 4,
   "metadata": {
    "vscode": {
     "languageId": "shellscript"
    }
   },
   "outputs": [
    {
     "data": {
      "text/plain": [
       "\"{'Round': 1, 'Prisoner 1 ID': 11, 'Prisoner 2 ID': 8, 'Prisoner 1 Decision': 'Betray.', 'Prisoner 2 Decision': 'Cooperate.', 'Prisoner 1 Score': 50.0, 'Prisoner 2 Score': 12.0, 'Prisoner 1 LLM Response': 'Betray', 'Prisoner 2 LLM Response': 'Cooperate', 'Probability of Game Continuing': 0.5}\""
      ]
     },
     "execution_count": 4,
     "metadata": {},
     "output_type": "execute_result"
    }
   ],
   "source": [
    "df['Data'][0]"
   ]
  },
  {
   "cell_type": "code",
   "execution_count": 5,
   "metadata": {
    "vscode": {
     "languageId": "shellscript"
    }
   },
   "outputs": [],
   "source": [
    "subjects = {(0.5, 32) : [16, 12, 16], (0.5, 40) : [14, 16, 20], (0.5, 48) : [14, 14, 18],\n",
    "            (0.75, 32) : [14, 16, 14], (0.75, 40) : [12, 14, 12], (0.75, 48) : [16, 12, 16]}"
   ]
  },
  {
   "cell_type": "code",
   "execution_count": 6,
   "metadata": {
    "vscode": {
     "languageId": "shellscript"
    }
   },
   "outputs": [],
   "source": [
    "# Function to get reward based on experiment and supergame\n",
    "def get_reward(experiment):\n",
    "    if experiment <= 5:\n",
    "        return 32\n",
    "    elif experiment >= 6 and experiment <= 11:\n",
    "        return 40\n",
    "    elif experiment >= 12 and experiment <= 17:\n",
    "        return 48\n",
    "    return None  # If no match found, return None"
   ]
  },
  {
   "cell_type": "code",
   "execution_count": 7,
   "metadata": {
    "vscode": {
     "languageId": "shellscript"
    }
   },
   "outputs": [],
   "source": [
    "df['Reward'] = df.apply(lambda row: get_reward(row['Experiment']), axis=1)"
   ]
  },
  {
   "cell_type": "code",
   "execution_count": 8,
   "metadata": {
    "vscode": {
     "languageId": "shellscript"
    }
   },
   "outputs": [],
   "source": [
    "import ast"
   ]
  },
  {
   "cell_type": "code",
   "execution_count": 9,
   "metadata": {
    "vscode": {
     "languageId": "shellscript"
    }
   },
   "outputs": [
    {
     "data": {
      "text/plain": [
       "<StringArray>\n",
       "['Betray', 'Cooperate']\n",
       "Length: 2, dtype: string"
      ]
     },
     "execution_count": 9,
     "metadata": {},
     "output_type": "execute_result"
    }
   ],
   "source": [
    "pd.array([ast.literal_eval(i)['Prisoner 1 LLM Response'] for i in df['Data']]).unique()"
   ]
  },
  {
   "cell_type": "code",
   "execution_count": 10,
   "metadata": {
    "vscode": {
     "languageId": "shellscript"
    }
   },
   "outputs": [],
   "source": [
    "# Convert the 'Data' column from string to dictionary using ast.literal_eval\n",
    "df['Data'] = df['Data'].apply(ast.literal_eval)\n",
    "\n",
    "# Extract the relevant columns (decisions, scores, etc.) into separate columns\n",
    "df['Round'] = df['Data'].apply(lambda x: x['Round'])\n",
    "df['Prisoner 1 Decision'] = df['Data'].apply(lambda x: x['Prisoner 1 LLM Response'])\n",
    "df['Prisoner 2 Decision'] = df['Data'].apply(lambda x: x['Prisoner 2 LLM Response'])\n",
    "df['Prisoner 1 Score'] = df['Data'].apply(lambda x: x['Prisoner 1 Score'])\n",
    "df['Prisoner 2 Score'] = df['Data'].apply(lambda x: x['Prisoner 2 Score'])"
   ]
  },
  {
   "cell_type": "code",
   "execution_count": 11,
   "metadata": {
    "vscode": {
     "languageId": "shellscript"
    }
   },
   "outputs": [],
   "source": [
    "df['Probability of Game Continuing'] = df['Data'].apply(lambda x: x['Probability of Game Continuing'])"
   ]
  },
  {
   "cell_type": "code",
   "execution_count": 50,
   "metadata": {
    "vscode": {
     "languageId": "shellscript"
    }
   },
   "outputs": [
    {
     "data": {
      "text/plain": [
       "'Betray'"
      ]
     },
     "execution_count": 50,
     "metadata": {},
     "output_type": "execute_result"
    }
   ],
   "source": [
    "df['Data'][0]['Prisoner 1 LLM Response']"
   ]
  },
  {
   "cell_type": "code",
   "execution_count": 55,
   "metadata": {
    "vscode": {
     "languageId": "shellscript"
    }
   },
   "outputs": [
    {
     "data": {
      "text/plain": [
       "numpy.float64"
      ]
     },
     "execution_count": 55,
     "metadata": {},
     "output_type": "execute_result"
    }
   ],
   "source": [
    "type(df['Prisoner 1 Score'][0])"
   ]
  },
  {
   "cell_type": "code",
   "execution_count": 15,
   "metadata": {
    "vscode": {
     "languageId": "shellscript"
    }
   },
   "outputs": [
    {
     "data": {
      "text/plain": [
       "964"
      ]
     },
     "execution_count": 15,
     "metadata": {},
     "output_type": "execute_result"
    }
   ],
   "source": [
    "sum(df['Round'] == 1)"
   ]
  },
  {
   "cell_type": "code",
   "execution_count": 56,
   "metadata": {
    "vscode": {
     "languageId": "shellscript"
    }
   },
   "outputs": [
    {
     "name": "stdout",
     "output_type": "stream",
     "text": [
      "       Player 1 Cooperates  Player 2 Cooperates\n",
      "Round                                          \n",
      "1                 0.578838             0.539419\n",
      "2                 0.614565             0.606762\n",
      "3                 0.622356             0.610272\n",
      "4                 0.622549             0.534314\n",
      "5                 0.613636             0.621212\n",
      "6                 0.606061             0.696970\n",
      "7                 0.550725             0.521739\n",
      "8                 0.612245             0.612245\n",
      "9                 0.729730             0.540541\n",
      "10                0.523810             0.666667\n",
      "11                0.600000             0.600000\n",
      "12                0.454545             0.363636\n",
      "13                0.500000             0.750000\n",
      "14                0.400000             0.800000\n",
      "15                0.250000             0.250000\n",
      "16                0.333333             1.000000\n",
      "17                1.000000             0.500000\n"
     ]
    }
   ],
   "source": [
    "# Now let's define a function to classify decisions: 1 for Cooperation, 0 for Defection\n",
    "def classify_decision(decision):\n",
    "    if decision == 'Cooperate':\n",
    "        return 1\n",
    "    elif decision == 'Betray':\n",
    "        return 0\n",
    "    else:\n",
    "        return None  # Handle other decision values if needed\n",
    "\n",
    "# Apply the classification to the 'Prisoner 1 Decision' and 'Prisoner 2 Decision'\n",
    "df['Player 1 Cooperates'] = df['Prisoner 1 Decision'].apply(classify_decision)\n",
    "df['Player 2 Cooperates'] = df['Prisoner 2 Decision'].apply(classify_decision)\n",
    "\n",
    "# Calculate cooperation rates per round\n",
    "cooperation_rate_per_round = df.groupby('Round')[['Player 1 Cooperates', 'Player 2 Cooperates']].mean()\n",
    "\n",
    "# Print the cooperation rates per round\n",
    "print(cooperation_rate_per_round)"
   ]
  },
  {
   "cell_type": "code",
   "execution_count": 62,
   "metadata": {
    "vscode": {
     "languageId": "shellscript"
    }
   },
   "outputs": [
    {
     "data": {
      "text/html": [
       "<div>\n",
       "<style scoped>\n",
       "    .dataframe tbody tr th:only-of-type {\n",
       "        vertical-align: middle;\n",
       "    }\n",
       "\n",
       "    .dataframe tbody tr th {\n",
       "        vertical-align: top;\n",
       "    }\n",
       "\n",
       "    .dataframe thead th {\n",
       "        text-align: right;\n",
       "    }\n",
       "</style>\n",
       "<table border=\"1\" class=\"dataframe\">\n",
       "  <thead>\n",
       "    <tr style=\"text-align: right;\">\n",
       "      <th></th>\n",
       "      <th>Player 1 Cooperates</th>\n",
       "      <th>Player 2 Cooperates</th>\n",
       "    </tr>\n",
       "    <tr>\n",
       "      <th>Probability of Game Continuing</th>\n",
       "      <th></th>\n",
       "      <th></th>\n",
       "    </tr>\n",
       "  </thead>\n",
       "  <tbody>\n",
       "    <tr>\n",
       "      <th>0.50</th>\n",
       "      <td>0.608470</td>\n",
       "      <td>0.599554</td>\n",
       "    </tr>\n",
       "    <tr>\n",
       "      <th>0.75</th>\n",
       "      <td>0.588386</td>\n",
       "      <td>0.550427</td>\n",
       "    </tr>\n",
       "  </tbody>\n",
       "</table>\n",
       "</div>"
      ],
      "text/plain": [
       "                                Player 1 Cooperates  Player 2 Cooperates\n",
       "Probability of Game Continuing                                          \n",
       "0.50                                       0.608470             0.599554\n",
       "0.75                                       0.588386             0.550427"
      ]
     },
     "execution_count": 62,
     "metadata": {},
     "output_type": "execute_result"
    }
   ],
   "source": [
    "cooperation_rate"
   ]
  },
  {
   "cell_type": "code",
   "execution_count": 63,
   "metadata": {
    "vscode": {
     "languageId": "shellscript"
    }
   },
   "outputs": [
    {
     "name": "stdout",
     "output_type": "stream",
     "text": [
      "Probability of Game Continuing 0.50 0.75\n",
      "Reward                                  \n",
      "32                              YES  YES\n",
      "40                              YES  YES\n",
      "48                              YES  YES\n"
     ]
    },
    {
     "name": "stderr",
     "output_type": "stream",
     "text": [
      "C:\\Users\\ondre\\AppData\\Local\\Temp\\ipykernel_3180\\2424640953.py:6: DeprecationWarning: DataFrameGroupBy.apply operated on the grouping columns. This behavior is deprecated, and in a future version of pandas the grouping columns will be excluded from the operation. Either pass `include_groups=False` to exclude the groupings or explicitly select the grouping columns after groupby to silence this warning.\n",
      "  cooperation_rate_by_reward_and_probability = df.groupby(['Reward', 'Probability of Game Continuing']).apply(cooperation_rate).reset_index(name='Cooperation Rate')\n"
     ]
    }
   ],
   "source": [
    "# Define function to compute cooperation rate\n",
    "def cooperation_rate(group):\n",
    "    return group[['Player 1 Cooperates', 'Player 2 Cooperates']].mean().mean()\n",
    "\n",
    "# Group by Reward and Probability of Game Continuing and compute average cooperation rate\n",
    "cooperation_rate_by_reward_and_probability = df.groupby(['Reward', 'Probability of Game Continuing']).apply(cooperation_rate).reset_index(name='Cooperation Rate')\n",
    "\n",
    "# Set threshold for cooperation classification\n",
    "cooperation_rate_by_reward_and_probability['Cooperation Status'] = cooperation_rate_by_reward_and_probability['Cooperation Rate'].apply(lambda x: 'YES' if x > 0.5 else 'NO')\n",
    "\n",
    "# Pivot the table to get a clear representation of cooperation in equilibrium\n",
    "table = cooperation_rate_by_reward_and_probability.pivot_table(index='Reward', columns='Probability of Game Continuing', values='Cooperation Status', aggfunc='first')\n",
    "\n",
    "# Print the table\n",
    "print(table)"
   ]
  },
  {
   "cell_type": "code",
   "execution_count": 64,
   "metadata": {
    "vscode": {
     "languageId": "shellscript"
    }
   },
   "outputs": [
    {
     "data": {
      "text/html": [
       "<div>\n",
       "<style scoped>\n",
       "    .dataframe tbody tr th:only-of-type {\n",
       "        vertical-align: middle;\n",
       "    }\n",
       "\n",
       "    .dataframe tbody tr th {\n",
       "        vertical-align: top;\n",
       "    }\n",
       "\n",
       "    .dataframe thead th {\n",
       "        text-align: right;\n",
       "    }\n",
       "</style>\n",
       "<table border=\"1\" class=\"dataframe\">\n",
       "  <thead>\n",
       "    <tr style=\"text-align: right;\">\n",
       "      <th></th>\n",
       "      <th>Data</th>\n",
       "      <th>Experiment</th>\n",
       "      <th>Supergame</th>\n",
       "      <th>Subject Pair</th>\n",
       "      <th>Reward</th>\n",
       "      <th>Round</th>\n",
       "      <th>Prisoner 1 Decision</th>\n",
       "      <th>Prisoner 2 Decision</th>\n",
       "      <th>Prisoner 1 Score</th>\n",
       "      <th>Prisoner 2 Score</th>\n",
       "      <th>Player 1 Cooperates</th>\n",
       "      <th>Player 2 Cooperates</th>\n",
       "      <th>Probability of Game Continuing</th>\n",
       "    </tr>\n",
       "  </thead>\n",
       "  <tbody>\n",
       "    <tr>\n",
       "      <th>0</th>\n",
       "      <td>{'Round': 1, 'Prisoner 1 ID': 11, 'Prisoner 2 ...</td>\n",
       "      <td>0</td>\n",
       "      <td>1</td>\n",
       "      <td>1</td>\n",
       "      <td>32</td>\n",
       "      <td>1</td>\n",
       "      <td>Betray</td>\n",
       "      <td>Cooperate</td>\n",
       "      <td>50.0</td>\n",
       "      <td>12.0</td>\n",
       "      <td>0</td>\n",
       "      <td>1.0</td>\n",
       "      <td>0.50</td>\n",
       "    </tr>\n",
       "    <tr>\n",
       "      <th>1</th>\n",
       "      <td>{'Round': 2, 'Prisoner 1 ID': 11, 'Prisoner 2 ...</td>\n",
       "      <td>0</td>\n",
       "      <td>1</td>\n",
       "      <td>1</td>\n",
       "      <td>32</td>\n",
       "      <td>2</td>\n",
       "      <td>Betray</td>\n",
       "      <td>Cooperate</td>\n",
       "      <td>100.0</td>\n",
       "      <td>24.0</td>\n",
       "      <td>0</td>\n",
       "      <td>1.0</td>\n",
       "      <td>0.50</td>\n",
       "    </tr>\n",
       "    <tr>\n",
       "      <th>2</th>\n",
       "      <td>{'Round': 3, 'Prisoner 1 ID': 11, 'Prisoner 2 ...</td>\n",
       "      <td>0</td>\n",
       "      <td>1</td>\n",
       "      <td>1</td>\n",
       "      <td>32</td>\n",
       "      <td>3</td>\n",
       "      <td>Cooperate</td>\n",
       "      <td>Cooperate</td>\n",
       "      <td>132.0</td>\n",
       "      <td>56.0</td>\n",
       "      <td>1</td>\n",
       "      <td>1.0</td>\n",
       "      <td>0.50</td>\n",
       "    </tr>\n",
       "    <tr>\n",
       "      <th>3</th>\n",
       "      <td>{'Round': 1, 'Prisoner 1 ID': 0, 'Prisoner 2 I...</td>\n",
       "      <td>0</td>\n",
       "      <td>1</td>\n",
       "      <td>2</td>\n",
       "      <td>32</td>\n",
       "      <td>1</td>\n",
       "      <td>Betray</td>\n",
       "      <td>Betray</td>\n",
       "      <td>25.0</td>\n",
       "      <td>25.0</td>\n",
       "      <td>0</td>\n",
       "      <td>0.0</td>\n",
       "      <td>0.50</td>\n",
       "    </tr>\n",
       "    <tr>\n",
       "      <th>4</th>\n",
       "      <td>{'Round': 2, 'Prisoner 1 ID': 0, 'Prisoner 2 I...</td>\n",
       "      <td>0</td>\n",
       "      <td>1</td>\n",
       "      <td>2</td>\n",
       "      <td>32</td>\n",
       "      <td>2</td>\n",
       "      <td>Betray</td>\n",
       "      <td>Betray</td>\n",
       "      <td>50.0</td>\n",
       "      <td>50.0</td>\n",
       "      <td>0</td>\n",
       "      <td>0.0</td>\n",
       "      <td>0.50</td>\n",
       "    </tr>\n",
       "    <tr>\n",
       "      <th>...</th>\n",
       "      <td>...</td>\n",
       "      <td>...</td>\n",
       "      <td>...</td>\n",
       "      <td>...</td>\n",
       "      <td>...</td>\n",
       "      <td>...</td>\n",
       "      <td>...</td>\n",
       "      <td>...</td>\n",
       "      <td>...</td>\n",
       "      <td>...</td>\n",
       "      <td>...</td>\n",
       "      <td>...</td>\n",
       "      <td>...</td>\n",
       "    </tr>\n",
       "    <tr>\n",
       "      <th>2512</th>\n",
       "      <td>{'Round': 3, 'Prisoner 1 ID': 15, 'Prisoner 2 ...</td>\n",
       "      <td>17</td>\n",
       "      <td>4</td>\n",
       "      <td>7</td>\n",
       "      <td>48</td>\n",
       "      <td>3</td>\n",
       "      <td>Betray</td>\n",
       "      <td>Betray</td>\n",
       "      <td>378.0</td>\n",
       "      <td>314.0</td>\n",
       "      <td>0</td>\n",
       "      <td>0.0</td>\n",
       "      <td>0.75</td>\n",
       "    </tr>\n",
       "    <tr>\n",
       "      <th>2513</th>\n",
       "      <td>{'Round': 4, 'Prisoner 1 ID': 15, 'Prisoner 2 ...</td>\n",
       "      <td>17</td>\n",
       "      <td>4</td>\n",
       "      <td>7</td>\n",
       "      <td>48</td>\n",
       "      <td>4</td>\n",
       "      <td>Betray</td>\n",
       "      <td>Cooperate</td>\n",
       "      <td>428.0</td>\n",
       "      <td>326.0</td>\n",
       "      <td>0</td>\n",
       "      <td>1.0</td>\n",
       "      <td>0.75</td>\n",
       "    </tr>\n",
       "    <tr>\n",
       "      <th>2514</th>\n",
       "      <td>{'Round': 5, 'Prisoner 1 ID': 15, 'Prisoner 2 ...</td>\n",
       "      <td>17</td>\n",
       "      <td>4</td>\n",
       "      <td>7</td>\n",
       "      <td>48</td>\n",
       "      <td>5</td>\n",
       "      <td>Cooperate</td>\n",
       "      <td>Cooperate</td>\n",
       "      <td>476.0</td>\n",
       "      <td>374.0</td>\n",
       "      <td>1</td>\n",
       "      <td>1.0</td>\n",
       "      <td>0.75</td>\n",
       "    </tr>\n",
       "    <tr>\n",
       "      <th>2515</th>\n",
       "      <td>{'Round': 1, 'Prisoner 1 ID': 4, 'Prisoner 2 I...</td>\n",
       "      <td>17</td>\n",
       "      <td>4</td>\n",
       "      <td>8</td>\n",
       "      <td>48</td>\n",
       "      <td>1</td>\n",
       "      <td>Betray</td>\n",
       "      <td>Cooperate</td>\n",
       "      <td>796.0</td>\n",
       "      <td>417.0</td>\n",
       "      <td>0</td>\n",
       "      <td>1.0</td>\n",
       "      <td>0.75</td>\n",
       "    </tr>\n",
       "    <tr>\n",
       "      <th>2516</th>\n",
       "      <td>{'Round': 2, 'Prisoner 1 ID': 4, 'Prisoner 2 I...</td>\n",
       "      <td>17</td>\n",
       "      <td>4</td>\n",
       "      <td>8</td>\n",
       "      <td>48</td>\n",
       "      <td>2</td>\n",
       "      <td>Cooperate</td>\n",
       "      <td>Cooperate</td>\n",
       "      <td>844.0</td>\n",
       "      <td>465.0</td>\n",
       "      <td>1</td>\n",
       "      <td>1.0</td>\n",
       "      <td>0.75</td>\n",
       "    </tr>\n",
       "  </tbody>\n",
       "</table>\n",
       "<p>2517 rows × 13 columns</p>\n",
       "</div>"
      ],
      "text/plain": [
       "                                                   Data  Experiment  \\\n",
       "0     {'Round': 1, 'Prisoner 1 ID': 11, 'Prisoner 2 ...           0   \n",
       "1     {'Round': 2, 'Prisoner 1 ID': 11, 'Prisoner 2 ...           0   \n",
       "2     {'Round': 3, 'Prisoner 1 ID': 11, 'Prisoner 2 ...           0   \n",
       "3     {'Round': 1, 'Prisoner 1 ID': 0, 'Prisoner 2 I...           0   \n",
       "4     {'Round': 2, 'Prisoner 1 ID': 0, 'Prisoner 2 I...           0   \n",
       "...                                                 ...         ...   \n",
       "2512  {'Round': 3, 'Prisoner 1 ID': 15, 'Prisoner 2 ...          17   \n",
       "2513  {'Round': 4, 'Prisoner 1 ID': 15, 'Prisoner 2 ...          17   \n",
       "2514  {'Round': 5, 'Prisoner 1 ID': 15, 'Prisoner 2 ...          17   \n",
       "2515  {'Round': 1, 'Prisoner 1 ID': 4, 'Prisoner 2 I...          17   \n",
       "2516  {'Round': 2, 'Prisoner 1 ID': 4, 'Prisoner 2 I...          17   \n",
       "\n",
       "      Supergame  Subject Pair  Reward  Round Prisoner 1 Decision  \\\n",
       "0             1             1      32      1              Betray   \n",
       "1             1             1      32      2              Betray   \n",
       "2             1             1      32      3           Cooperate   \n",
       "3             1             2      32      1              Betray   \n",
       "4             1             2      32      2              Betray   \n",
       "...         ...           ...     ...    ...                 ...   \n",
       "2512          4             7      48      3              Betray   \n",
       "2513          4             7      48      4              Betray   \n",
       "2514          4             7      48      5           Cooperate   \n",
       "2515          4             8      48      1              Betray   \n",
       "2516          4             8      48      2           Cooperate   \n",
       "\n",
       "     Prisoner 2 Decision  Prisoner 1 Score  Prisoner 2 Score  \\\n",
       "0              Cooperate              50.0              12.0   \n",
       "1              Cooperate             100.0              24.0   \n",
       "2              Cooperate             132.0              56.0   \n",
       "3                 Betray              25.0              25.0   \n",
       "4                 Betray              50.0              50.0   \n",
       "...                  ...               ...               ...   \n",
       "2512              Betray             378.0             314.0   \n",
       "2513           Cooperate             428.0             326.0   \n",
       "2514           Cooperate             476.0             374.0   \n",
       "2515           Cooperate             796.0             417.0   \n",
       "2516           Cooperate             844.0             465.0   \n",
       "\n",
       "      Player 1 Cooperates  Player 2 Cooperates  Probability of Game Continuing  \n",
       "0                       0                  1.0                            0.50  \n",
       "1                       0                  1.0                            0.50  \n",
       "2                       1                  1.0                            0.50  \n",
       "3                       0                  0.0                            0.50  \n",
       "4                       0                  0.0                            0.50  \n",
       "...                   ...                  ...                             ...  \n",
       "2512                    0                  0.0                            0.75  \n",
       "2513                    0                  1.0                            0.75  \n",
       "2514                    1                  1.0                            0.75  \n",
       "2515                    0                  1.0                            0.75  \n",
       "2516                    1                  1.0                            0.75  \n",
       "\n",
       "[2517 rows x 13 columns]"
      ]
     },
     "execution_count": 64,
     "metadata": {},
     "output_type": "execute_result"
    }
   ],
   "source": [
    "df"
   ]
  }
 ],
 "metadata": {
  "kernelspec": {
   "display_name": "Python 3",
   "language": "python",
   "name": "python3"
  },
  "language_info": {
   "codemirror_mode": {
    "name": "ipython",
    "version": 3
   },
   "file_extension": ".py",
   "mimetype": "text/x-python",
   "name": "python",
   "nbconvert_exporter": "python",
   "pygments_lexer": "ipython3",
   "version": "3.12.3"
  }
 },
 "nbformat": 4,
 "nbformat_minor": 2
}
